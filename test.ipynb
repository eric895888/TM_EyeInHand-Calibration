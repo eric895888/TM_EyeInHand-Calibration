{
 "cells": [
  {
   "cell_type": "code",
   "execution_count": 1,
   "metadata": {},
   "outputs": [],
   "source": [
    "import rospy\n",
    "import RobotControl_func_ros1 as RobotControl_func\n"
   ]
  },
  {
   "cell_type": "markdown",
   "metadata": {},
   "source": [
    "[167.47319030761722, -612.0562744140625, 1.2398681640625, -3.1352149154112716, 0.05147079787466374, 0.8578558524396701]\n",
    "這是用來測試有沒有被撞歪的座標"
   ]
  },
  {
   "cell_type": "code",
   "execution_count": 2,
   "metadata": {},
   "outputs": [
    {
     "name": "stdout",
     "output_type": "stream",
     "text": [
      "$$$$$$$\n",
      "(0.1674731903076172, -0.6120562744140625, 0.0012398681640625, -3.1352149154112716, 0.05147079787466374, 0.8578558524396701)\n",
      "$$$$$$$\n",
      "[167.47319030761722, -612.0562744140625, 1.2398681640625, -3.1352149154112716, 0.05147079787466374, 0.8578558524396701]\n"
     ]
    }
   ],
   "source": [
    "import rospy\n",
    "import RobotControl_func_ros1 as RobotControl_func\n",
    "\n",
    "rospy.init_node(\"RobotControl\",anonymous=True)\n",
    "robot = RobotControl_func.RobotControl_Func()\n",
    "totallist=[]\n",
    "[x,y,z,u,v,w] = robot.get_TMPos()\n",
    "print([x,y,z,u,v,w])"
   ]
  },
  {
   "cell_type": "markdown",
   "metadata": {},
   "source": [
    "每次取得一個點位並寫入"
   ]
  },
  {
   "cell_type": "code",
   "execution_count": 19,
   "metadata": {},
   "outputs": [
    {
     "ename": "ROSInterruptException",
     "evalue": "rospy shutdown",
     "output_type": "error",
     "traceback": [
      "\u001b[0;31m---------------------------------------------------------------------------\u001b[0m",
      "\u001b[0;31mROSInterruptException\u001b[0m                     Traceback (most recent call last)",
      "Cell \u001b[0;32mIn[19], line 1\u001b[0m\n\u001b[0;32m----> 1\u001b[0m \u001b[43mrobot\u001b[49m\u001b[38;5;241;43m.\u001b[39;49m\u001b[43mget_TMPos\u001b[49m\u001b[43m(\u001b[49m\u001b[43m)\u001b[49m\n\u001b[1;32m      2\u001b[0m \u001b[38;5;28mprint\u001b[39m(robot\u001b[38;5;241m.\u001b[39mget_TMPos())\n\u001b[1;32m      3\u001b[0m totallist\u001b[38;5;241m.\u001b[39mappend(robot\u001b[38;5;241m.\u001b[39mget_TMPos())\n",
      "File \u001b[0;32m/media/eric/Disk/calibration/RobotControl_func_ros1.py:145\u001b[0m, in \u001b[0;36mRobotControl_Func.get_TMPos\u001b[0;34m(self)\u001b[0m\n\u001b[1;32m    143\u001b[0m \u001b[38;5;28;01mdef\u001b[39;00m \u001b[38;5;21mget_TMPos\u001b[39m(\u001b[38;5;28mself\u001b[39m):\n\u001b[1;32m    144\u001b[0m     \u001b[38;5;66;03m# listen to 'feedback_states' topic\u001b[39;00m\n\u001b[0;32m--> 145\u001b[0m     data \u001b[38;5;241m=\u001b[39m \u001b[43mrospy\u001b[49m\u001b[38;5;241;43m.\u001b[39;49m\u001b[43mwait_for_message\u001b[49m\u001b[43m(\u001b[49m\u001b[38;5;124;43m\"\u001b[39;49m\u001b[38;5;124;43m/feedback_states\u001b[39;49m\u001b[38;5;124;43m\"\u001b[39;49m\u001b[43m,\u001b[49m\u001b[43m \u001b[49m\u001b[43mFeedbackState\u001b[49m\u001b[43m,\u001b[49m\u001b[43m \u001b[49m\u001b[43mtimeout\u001b[49m\u001b[38;5;241;43m=\u001b[39;49m\u001b[38;5;28;43;01mNone\u001b[39;49;00m\u001b[43m)\u001b[49m\n\u001b[1;32m    146\u001b[0m     \u001b[38;5;28mprint\u001b[39m(\u001b[38;5;124m\"\u001b[39m\u001b[38;5;124m$$$$$$$\u001b[39m\u001b[38;5;124m\"\u001b[39m)\n\u001b[1;32m    147\u001b[0m     \u001b[38;5;28mprint\u001b[39m(data\u001b[38;5;241m.\u001b[39mtool_pose)\n",
      "File \u001b[0;32m/opt/ros/noetic/lib/python3/dist-packages/rospy/client.py:428\u001b[0m, in \u001b[0;36mwait_for_message\u001b[0;34m(topic, topic_type, timeout)\u001b[0m\n\u001b[1;32m    426\u001b[0m         s\u001b[38;5;241m.\u001b[39munregister()\n\u001b[1;32m    427\u001b[0m \u001b[38;5;28;01mif\u001b[39;00m rospy\u001b[38;5;241m.\u001b[39mcore\u001b[38;5;241m.\u001b[39mis_shutdown():\n\u001b[0;32m--> 428\u001b[0m     \u001b[38;5;28;01mraise\u001b[39;00m rospy\u001b[38;5;241m.\u001b[39mexceptions\u001b[38;5;241m.\u001b[39mROSInterruptException(\u001b[38;5;124m\"\u001b[39m\u001b[38;5;124mrospy shutdown\u001b[39m\u001b[38;5;124m\"\u001b[39m)\n\u001b[1;32m    429\u001b[0m \u001b[38;5;28;01mreturn\u001b[39;00m wfm\u001b[38;5;241m.\u001b[39mmsg\n",
      "\u001b[0;31mROSInterruptException\u001b[0m: rospy shutdown"
     ]
    }
   ],
   "source": [
    "robot.get_TMPos()\n",
    "print(robot.get_TMPos())\n",
    "totallist.append(robot.get_TMPos())\n",
    "print(type(robot.get_TMPos()))\n"
   ]
  },
  {
   "cell_type": "code",
   "execution_count": 95,
   "metadata": {},
   "outputs": [
    {
     "name": "stdout",
     "output_type": "stream",
     "text": [
      "20\n",
      "[[594.0838069345818, -138.5408801148759, 467.4356994628906, -173.66317749023438, 1.6348413228988647, 40.24143981933594], [651.1750404833966, -137.92859227889605, 377.5372314453125, -161.86044311523438, 6.094341278076173, 43.08310317993164], [380.57412494766294, -154.7507657518352, 465.6792907714844, 155.37606811523438, 0.7027701139450073, 40.455318450927734], [552.544283046787, 91.85597185453206, 469.34497070312506, -178.34031677246094, 26.35577392578125, 79.72480773925783], [505.931211898094, 40.430569496767646, 417.74749755859375, -178.93786621093753, 24.97023963928223, 77.29475402832031], [379.65062208488035, -171.83297921094038, 396.77734375, 149.84552001953128, -2.5344710350036626, 37.02196502685547], [313.1101271400841, -216.13275617872853, 464.00189208984375, 165.38563537597656, -8.392745971679688, 7.755660057067872], [316.2141420548246, -218.0021395206294, 411.0020446777344, 164.49418640136716, -22.723831176757812, 1.4787429571151733], [233.0353363977323, -175.30989595431373, 683.2503662109375, 171.5413818359375, -21.719711303710938, -0.6140484809875488], [414.79957780511876, -237.51933219296103, 603.5322265625, -174.9716339111328, -15.467803955078123, -3.737208127975464], [503.0539726536259, -51.29590565995254, 375.5477600097656, 175.12493896484375, 14.943559646606447, 39.2091178894043], [580.6029007416711, 9.051993968462197, 464.00018310546875, -171.6441650390625, 15.597503662109375, 41.904556274414055], [704.5625735263708, -5.463094734469443, 276.04052734375, -159.20770263671875, 31.903396606445312, 51.70433044433594], [389.1585950523619, -52.71503927683339, 741.1685791015625, 164.48062133789062, -0.1004832461476326, 38.60519790649414], [699.1994767418531, -34.262051157654, 542.7216186523438, -159.6223907470703, 16.441404342651367, 34.38968276977538], [315.4986517597071, -180.57179984143065, 504.970458984375, 146.3219757080078, -0.15390565991401672, 25.624868392944336], [546.869690706043, 155.49661796227036, 508.43298339843756, -174.7596893310547, 31.34952735900879, 69.66913604736328], [538.1611726481076, 146.33208853653616, 424.66839599609375, -173.2864227294922, 31.832077026367184, 70.44954681396486], [162.116003730616, -245.29825936014004, 503.5932006835938, 152.44273376464844, -21.98662567138672, -4.411279201507568], [233.795304093496, -271.0178254177077, 411.585693359375, 162.21205139160156, -28.868242263793945, -9.436110496520996]]\n"
     ]
    }
   ],
   "source": [
    "print(len(totallist))\n",
    "print(totallist) #顯示目前儲存的"
   ]
  },
  {
   "cell_type": "markdown",
   "metadata": {},
   "source": []
  },
  {
   "cell_type": "markdown",
   "metadata": {},
   "source": [
    "把點位寫入"
   ]
  },
  {
   "cell_type": "code",
   "execution_count": 94,
   "metadata": {},
   "outputs": [],
   "source": [
    "file_name = 'EIH_PosSet.txt'\n",
    "with open(file_name, 'w+') as file:\n",
    "    for sublist in totallist:\n",
    "        file.write(str(sublist))\n",
    "        file.write('\\n')"
   ]
  },
  {
   "cell_type": "code",
   "execution_count": 141,
   "metadata": {},
   "outputs": [
    {
     "name": "stdout",
     "output_type": "stream",
     "text": [
      "(0.4812396240234375, -0.08837464141845704, 0.5219412231445313, 3.021293139777061, -0.0004731992204881803, 0.8152398155181677)\n",
      "(-5.605193857299268e-48, 5.605193857299268e-48, 5.605193857299268e-48, -9.782908802243343e-47, 9.782908802243343e-47, 9.782908802243343e-47)\n",
      "[402.77810975455776, 277.7974932907167, 521.9412231445312, 173.1073455810547, -0.027112318202853203, 46.709800720214844]\n"
     ]
    }
   ],
   "source": [
    "[x,y,z,u,v,w] = robot.get_TMPos()\n",
    "print([x,y,z,u,v,w])"
   ]
  },
  {
   "cell_type": "code",
   "execution_count": 145,
   "metadata": {},
   "outputs": [
    {
     "name": "stdout",
     "output_type": "stream",
     "text": [
      "[0.3221174926757813, -0.5180438842773437, 0.46743569946289065, -3.0309942366798928, 0.028533363832244956, 0.7023456205905642]\n",
      "[INFO] [1706959269.428046]: point 1 (Tag 1) is reached\n"
     ]
    }
   ],
   "source": [
    "robot.set_TMPos([594.0838069345818, -138.5408801148759, 467.4356994628906, -173.66317749023438, 1.6348413228988647, 40.24143981933594]\n",
    ")       \n",
    "#回正中間高度一定要大於100才不會撞到"
   ]
  },
  {
   "cell_type": "code",
   "execution_count": 108,
   "metadata": {},
   "outputs": [
    {
     "name": "stdout",
     "output_type": "stream",
     "text": [
      "[0.2774029541015625, -0.5208560791015625, 0.39837661743164066, -2.9231042545986026, -0.17800830048771593, 0.4842651180098327]\n",
      "[INFO] [1706957149.165105]: point 1 (Tag 1) is reached\n"
     ]
    }
   ],
   "source": [
    "[x,y,z,u,v,w]=[100, 100, 100.4959716796875, -176.01728820800784, 0.5390524864196777, 46.80111312866211]\n",
    "robot.set_TMPos([564.4543755213471, -172.14735558855622, 398.3766174316407, -167.48153686523438, -10.199124336242678, 27.746347427368164])#mm  | x+    <- y+   z+是往上\n",
    "#一定要大於100才不會撞到\n",
    "#robot.set_TMPos([484.1042532418399, -86.53510553787287, 396.6761474609375, -178.4583587646484, -0.2089095413684845, 44.86580276489258])\n",
    "#z軸似乎比實際上少了3公分"
   ]
  },
  {
   "cell_type": "code",
   "execution_count": 1,
   "metadata": {},
   "outputs": [],
   "source": [
    "from gripper import Gripper"
   ]
  },
  {
   "cell_type": "code",
   "execution_count": 5,
   "metadata": {},
   "outputs": [
    {
     "name": "stdout",
     "output_type": "stream",
     "text": [
      "Response: b'091003e800030130'\n",
      "Close gripper\n",
      "Response: b'091003e800030130'\n"
     ]
    }
   ],
   "source": [
    "from gripper import Gripper\n",
    "G = Gripper()\n",
    "G.gripper_soft_off()\n"
   ]
  },
  {
   "cell_type": "code",
   "execution_count": 5,
   "metadata": {},
   "outputs": [
    {
     "name": "stdout",
     "output_type": "stream",
     "text": [
      "Activate gripper:\n",
      "Clear: 09 10 03 E8 00 03 06 00 00 00 00 00 00 73 30\n",
      "Response: b'091003e800030130'\n",
      "Set: 09 10 03 E8 00 03 06 01 00 00 00 00 00 72 E1\n",
      "b'D z@\\xa0 \\xcc'\n",
      "b'\\t\\x03\\x021\\x00L\\x15'\n",
      "Activate Complete\n"
     ]
    }
   ],
   "source": [
    "G.gripper_reset()"
   ]
  },
  {
   "cell_type": "code",
   "execution_count": 4,
   "metadata": {},
   "outputs": [
    {
     "name": "stdout",
     "output_type": "stream",
     "text": [
      "Open gripper\n",
      "Response: b'091003e800030130'\n"
     ]
    }
   ],
   "source": [
    "G.gripper_on()"
   ]
  },
  {
   "cell_type": "code",
   "execution_count": 138,
   "metadata": {},
   "outputs": [
    {
     "name": "stdout",
     "output_type": "stream",
     "text": [
      "Close gripper\n",
      "Response: b'091003e800030130'\n"
     ]
    }
   ],
   "source": [
    "G.gripper_soft_off()\n",
    "#G.gripper_on()"
   ]
  },
  {
   "cell_type": "code",
   "execution_count": 35,
   "metadata": {},
   "outputs": [
    {
     "ename": "NameError",
     "evalue": "name 'G' is not defined",
     "output_type": "error",
     "traceback": [
      "\u001b[0;31m---------------------------------------------------------------------------\u001b[0m",
      "\u001b[0;31mNameError\u001b[0m                                 Traceback (most recent call last)",
      "Cell \u001b[0;32mIn[35], line 1\u001b[0m\n\u001b[0;32m----> 1\u001b[0m \u001b[43mG\u001b[49m\u001b[38;5;241m.\u001b[39mgripper_status()\n",
      "\u001b[0;31mNameError\u001b[0m: name 'G' is not defined"
     ]
    }
   ],
   "source": [
    "G.gripper_status()"
   ]
  },
  {
   "cell_type": "code",
   "execution_count": 1,
   "metadata": {},
   "outputs": [
    {
     "name": "stdout",
     "output_type": "stream",
     "text": [
      "[[-9.99523694e-01  2.23258360e-02  2.13059047e-02  3.12689041e+01]\n",
      " [-2.32043880e-02 -9.98851480e-01 -4.19198950e-02 -8.59567950e+01]\n",
      " [ 2.03455377e-02 -4.23943188e-02  9.98893779e-01 -1.14847755e+02]\n",
      " [ 0.00000000e+00  0.00000000e+00  0.00000000e+00  1.00000000e+00]]\n",
      "[[ 0.99888145 -0.04660927  0.00796429]\n",
      " [ 0.04537618  0.99223829  0.11577645]\n",
      " [-0.01329873 -0.11528555  0.99324337]]\n",
      "[[606.77737141   0.         321.6328648 ]\n",
      " [  0.         606.70030442 236.95293668]\n",
      " [  0.           0.           1.        ]]\n"
     ]
    }
   ],
   "source": [
    "import numpy as np\n",
    "\n",
    "print(np.load('Camera2Gripper.npy')) #偏移矩陣\n",
    "\n",
    "print(np.load('RC2G.npy')) #旋轉矩陣\n",
    "\n",
    "print(np.load('INS.npy')) #內參矩陣\n"
   ]
  },
  {
   "cell_type": "code",
   "execution_count": 3,
   "metadata": {},
   "outputs": [
    {
     "name": "stdout",
     "output_type": "stream",
     "text": [
      "四元數：\n",
      "[ 0.92404525 -0.33017352  0.15497271  0.11449581]\n",
      "四元數：scipy\n",
      "[ 0.92404525 -0.33017352  0.15497271  0.11449581]\n"
     ]
    }
   ],
   "source": [
    "import numpy as np\n",
    "\n",
    "def rotation_matrix_to_quaternion(R):\n",
    "    trace = np.trace(R)\n",
    "    if trace > 0:\n",
    "        S = 0.5 / np.sqrt(trace + 1.0)\n",
    "        w = 0.25 / S\n",
    "        x = (R[2, 1] - R[1, 2]) * S\n",
    "        y = (R[0, 2] - R[2, 0]) * S\n",
    "        z = (R[1, 0] - R[0, 1]) * S\n",
    "    elif R[0, 0] > R[1, 1] and R[0, 0] > R[2, 2]:\n",
    "        S = 2.0 * np.sqrt(1.0 + R[0, 0] - R[1, 1] - R[2, 2])\n",
    "        w = (R[2, 1] - R[1, 2]) / S\n",
    "        x = 0.25 * S\n",
    "        y = (R[0, 1] + R[1, 0]) / S\n",
    "        z = (R[0, 2] + R[2, 0]) / S\n",
    "    elif R[1, 1] > R[2, 2]:\n",
    "        S = 2.0 * np.sqrt(1.0 + R[1, 1] - R[0, 0] - R[2, 2])\n",
    "        w = (R[0, 2] - R[2, 0]) / S\n",
    "        x = (R[0, 1] + R[1, 0]) / S\n",
    "        y = 0.25 * S\n",
    "        z = (R[1, 2] + R[2, 1]) / S\n",
    "    else:\n",
    "        S = 2.0 * np.sqrt(1.0 + R[2, 2] - R[0, 0] - R[1, 1])\n",
    "        w = (R[1, 0] - R[0, 1]) / S\n",
    "        x = (R[0, 2] + R[2, 0]) / S\n",
    "        y = (R[1, 2] + R[2, 1]) / S\n",
    "        z = 0.25 * S\n",
    "\n",
    "    return np.array([w, x, y, z])\n",
    "\n",
    "# 旋轉矩陣\n",
    "rotation_matrix = np.array([[ 0.92574834, -0.31393438,  0.21079662],\n",
    "       [ 0.10926284,  0.75575232,  0.64567799],\n",
    "       [-0.36201055, -0.57470309,  0.73393782]])\n",
    "\n",
    "# 轉換為四元數\n",
    "quaternion = rotation_matrix_to_quaternion(rotation_matrix)\n",
    "\n",
    "print(\"四元數：\")\n",
    "print(quaternion)\n",
    "\n",
    "from scipy.spatial.transform import Rotation as R\n",
    "r = R.from_matrix(rotation_matrix)\n",
    "r.as_quat()\n",
    "print(\"四元數：scipy\")\n",
    "print(quaternion)"
   ]
  },
  {
   "cell_type": "code",
   "execution_count": 4,
   "metadata": {},
   "outputs": [
    {
     "name": "stdout",
     "output_type": "stream",
     "text": [
      "旋轉矩陣：\n",
      "[[ 0.975926 -0.217446 -0.01712 ]\n",
      " [ 0.00255  -0.067274  0.997896]\n",
      " [-0.218104 -0.97392  -0.065104]]\n",
      "旋轉矩陣：scipy\n",
      "[[ 0.975926 -0.217446 -0.01712 ]\n",
      " [ 0.00255  -0.067274  0.997896]\n",
      " [-0.218104 -0.97392  -0.065104]]\n"
     ]
    }
   ],
   "source": [
    "import numpy as np\n",
    "from scipy.spatial.transform import Rotation as R\n",
    "\n",
    "def quaternion_to_rotation_matrix(q):\n",
    "    a, b, c, d = q\n",
    "    R = np.array([[1 - 2*(c**2 + d**2), 2*(b*c - a*d), 2*(a*c + b*d)],\n",
    "                  [2*(b*c + a*d), 1 - 2*(b**2 + d**2), 2*(c*d - a*b)],\n",
    "                  [2*(b*d - a*c), 2*(a*b + c*d), 1 - 2*(b**2 + c**2)]])\n",
    "    return R\n",
    "\n",
    "# 四元數\n",
    "quaternion = np.array([-0.679, 0.726, -0.074, -0.081])\n",
    "\n",
    "# 轉換為旋轉矩陣\n",
    "rotation_matrix = quaternion_to_rotation_matrix(quaternion)\n",
    "\n",
    "print(\"旋轉矩陣：\")\n",
    "print(rotation_matrix)\n",
    "\n",
    "\n",
    "r = R.from_quat(quaternion)\n",
    "r.as_matrix()\n",
    "print(\"旋轉矩陣：scipy\")\n",
    "print(rotation_matrix)"
   ]
  },
  {
   "cell_type": "code",
   "execution_count": 5,
   "metadata": {},
   "outputs": [
    {
     "name": "stdout",
     "output_type": "stream",
     "text": [
      "在原始影像中的位置：(215, 192)\n"
     ]
    }
   ],
   "source": [
    "def convert_coordinates(window_width, window_height, image_width, image_height, click_x, click_y):\n",
    "    # 計算寬度和高度的比例因子\n",
    "    width_scale = image_width / window_width\n",
    "    height_scale = image_height / window_height\n",
    "    \n",
    "    # 將視窗中的點擊位置轉換為原始大小影像中的位置\n",
    "    original_x = int(click_x * width_scale)\n",
    "    original_y = int(click_y * height_scale)\n",
    "    \n",
    "    return original_x, original_y\n",
    "\n",
    "# 視窗大小\n",
    "window_width = 889\n",
    "window_height = 500\n",
    "\n",
    "# 原始影像大小\n",
    "image_width = 640\n",
    "image_height = 480\n",
    "\n",
    "# 在視窗中的點擊位置\n",
    "click_x = 300\n",
    "click_y = 200\n",
    "\n",
    "# 轉換為原始影像中的位置\n",
    "original_x, original_y = convert_coordinates(window_width, window_height, image_width, image_height, click_x, click_y)\n",
    "\n",
    "print(\"在原始影像中的位置：({}, {})\".format(original_x, original_y))"
   ]
  },
  {
   "cell_type": "code",
   "execution_count": 146,
   "metadata": {},
   "outputs": [
    {
     "name": "stdout",
     "output_type": "stream",
     "text": [
      "[ 640x480  p[319.108 241.311]  f[611.058 611.026]  Inverse Brown Conrady [0 0 0 0 0] ]\n"
     ]
    }
   ],
   "source": [
    "import pyrealsense2 as rs\n",
    "pipeline = rs.pipeline()\n",
    "#self.colorizer = rs.colorizer()\n",
    "config = rs.config()\n",
    "#self.config.enable_device('f0265339') #只有一隻相機就不用指定\n",
    "config.enable_stream(rs.stream.depth, 640, 480, rs.format.z16, 30)\n",
    "config.enable_stream(rs.stream.color, 640, 480, rs.format.bgr8, 30)\n",
    "align_to = rs.stream.color\n",
    "align = rs.align(align_to)\n",
    "profile = pipeline.start(config)\n",
    "depth_sensor = profile.get_device().first_depth_sensor()\n",
    "depth_scale = depth_sensor.get_depth_scale()  \n",
    "frames = pipeline.wait_for_frames()\n",
    "aligned_frames = align.process(frames)\n",
    "depth_frame = aligned_frames.get_depth_frame()\n",
    "color_frame = aligned_frames.get_color_frame()\n",
    "_intrin = depth_frame.profile.as_video_stream_profile().intrinsics\n",
    "print(_intrin)\n",
    "pipeline.stop()"
   ]
  },
  {
   "cell_type": "code",
   "execution_count": 147,
   "metadata": {},
   "outputs": [
    {
     "ename": "NameError",
     "evalue": "name 'np' is not defined",
     "output_type": "error",
     "traceback": [
      "\u001b[0;31m---------------------------------------------------------------------------\u001b[0m",
      "\u001b[0;31mNameError\u001b[0m                                 Traceback (most recent call last)",
      "Cell \u001b[0;32mIn[147], line 2\u001b[0m\n\u001b[1;32m      1\u001b[0m \u001b[38;5;28;01mimport\u001b[39;00m \u001b[38;5;21;01mcv2\u001b[39;00m\n\u001b[0;32m----> 2\u001b[0m rvec\u001b[38;5;241m=\u001b[39m\u001b[43mnp\u001b[49m\u001b[38;5;241m.\u001b[39mmatrix([[\u001b[38;5;241m-\u001b[39m\u001b[38;5;241m0.67507828\u001b[39m],\n\u001b[1;32m      3\u001b[0m                 [ \u001b[38;5;241m0.3170204\u001b[39m ],\n\u001b[1;32m      4\u001b[0m                 [ \u001b[38;5;241m0.2399557\u001b[39m ]])\n\u001b[1;32m      6\u001b[0m rmatx \u001b[38;5;241m=\u001b[39m \u001b[38;5;241m0\u001b[39m\n\u001b[1;32m      7\u001b[0m rmatx \u001b[38;5;241m=\u001b[39m cv2\u001b[38;5;241m.\u001b[39mRodrigues(rvec,rmatx)[\u001b[38;5;241m0\u001b[39m]\n",
      "\u001b[0;31mNameError\u001b[0m: name 'np' is not defined"
     ]
    }
   ],
   "source": [
    "import cv2\n",
    "rvec=np.matrix([[-0.67507828],\n",
    "                [ 0.3170204 ],\n",
    "                [ 0.2399557 ]])\n",
    "\n",
    "rmatx = 0\n",
    "rmatx = cv2.Rodrigues(rvec,rmatx)[0]\n",
    "r_mat2,_ = cv2.Rodrigues(rvec)\n",
    "print(rmatx)\n",
    "print(r_mat2)\n"
   ]
  },
  {
   "cell_type": "markdown",
   "metadata": {},
   "source": [
    "[[ 9.97138831e-01  7.19587478e-02  2.31536055e-02 -4.18799845e+01]\n",
    " [-7.36243805e-02  9.93934636e-01  8.16908186e-02  1.76238195e+01]\n",
    " [-1.71348015e-02 -8.31617572e-02  9.96388740e-01  1.61677344e+01]\n",
    " [ 0.00000000e+00  0.00000000e+00  0.00000000e+00  1.00000000e+00]]  目前的camera到gripper"
   ]
  }
 ],
 "metadata": {
  "kernelspec": {
   "display_name": "Python 3",
   "language": "python",
   "name": "python3"
  },
  "language_info": {
   "codemirror_mode": {
    "name": "ipython",
    "version": 3
   },
   "file_extension": ".py",
   "mimetype": "text/x-python",
   "name": "python",
   "nbconvert_exporter": "python",
   "pygments_lexer": "ipython3",
   "version": "3.8.10"
  }
 },
 "nbformat": 4,
 "nbformat_minor": 2
}
