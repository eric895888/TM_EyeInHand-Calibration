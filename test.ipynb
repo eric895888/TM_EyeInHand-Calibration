{
 "cells": [
  {
   "cell_type": "code",
   "execution_count": 1,
   "metadata": {},
   "outputs": [],
   "source": [
    "import rospy\n",
    "import RobotControl_func_ros1 as RobotControl_func\n"
   ]
  },
  {
   "cell_type": "code",
   "execution_count": 2,
   "metadata": {},
   "outputs": [],
   "source": [
    "rospy.init_node(\"RobotControl\",anonymous=True)\n",
    "robot = RobotControl_func.RobotControl_Func()\n",
    "totallist=[]"
   ]
  },
  {
   "cell_type": "markdown",
   "metadata": {},
   "source": [
    "每次取得一個點位並寫入"
   ]
  },
  {
   "cell_type": "code",
   "execution_count": 7,
   "metadata": {},
   "outputs": [
    {
     "name": "stdout",
     "output_type": "stream",
     "text": [
      "(0.24601629638671876, -0.4165542297363281, 0.43866174316406253, -3.121152625907326, 0.02034719987372109, 0.7940779380222346)\n",
      "(-5.605193857299268e-48, 5.605193857299268e-48, -5.605193857299268e-48, 9.782908802243343e-47, 9.782908802243343e-47, 9.782908802243343e-47)\n",
      "(0.24601629638671876, -0.4165542297363281, 0.43866174316406253, -3.121152625907326, 0.02034719987372109, 0.7940779380222346)\n",
      "(-5.605193857299268e-48, 5.605193857299268e-48, -5.605193857299268e-48, 9.782908802243343e-47, 9.782908802243343e-47, 9.782908802243343e-47)\n",
      "[468.5081120359449, -120.58852912104827, 438.66174316406256, -178.82887268066406, 1.16580867767334, 45.49731445312501]\n",
      "(0.24601629638671876, -0.4165542297363281, 0.43866174316406253, -3.121152625907326, 0.02034719987372109, 0.7940779380222346)\n",
      "(-5.605193857299268e-48, 5.605193857299268e-48, -5.605193857299268e-48, 9.782908802243343e-47, 9.782908802243343e-47, 9.782908802243343e-47)\n",
      "(0.24601629638671876, -0.4165542297363281, 0.43866174316406253, -3.121152625907326, 0.02034719987372109, 0.7940779380222346)\n",
      "(-5.605193857299268e-48, 5.605193857299268e-48, -5.605193857299268e-48, 9.782908802243343e-47, 9.782908802243343e-47, 9.782908802243343e-47)\n",
      "<class 'list'>\n"
     ]
    }
   ],
   "source": [
    "robot.get_TMPos()\n",
    "print(robot.get_TMPos())\n",
    "totallist.append(robot.get_TMPos())\n",
    "print(type(robot.get_TMPos()))\n"
   ]
  },
  {
   "cell_type": "code",
   "execution_count": 5,
   "metadata": {},
   "outputs": [
    {
     "name": "stdout",
     "output_type": "stream",
     "text": [
      "0\n",
      "[]\n"
     ]
    }
   ],
   "source": [
    "print(len(totallist))\n",
    "print(totallist) #顯示目前儲存的"
   ]
  },
  {
   "cell_type": "markdown",
   "metadata": {},
   "source": [
    "把點位寫入"
   ]
  },
  {
   "cell_type": "code",
   "execution_count": 4,
   "metadata": {},
   "outputs": [],
   "source": [
    "file_name = 'EIH_PosSet.txt'\n",
    "with open(file_name, 'a') as file:\n",
    "    for sublist in totallist:\n",
    "        for item in sublist:\n",
    "            file.write(str(item) + ' ')\n",
    "        file.write('\\n')"
   ]
  },
  {
   "cell_type": "code",
   "execution_count": 3,
   "metadata": {},
   "outputs": [
    {
     "name": "stdout",
     "output_type": "stream",
     "text": [
      "(0.29731997680664063, -0.47174743652343754, 0.24122178649902346, -2.9738001891093506, 0.06501696259816259, 0.8044920963069349)\n",
      "(4.313757978452796e-30, 2.7652330733746882e-30, 5.605193857299268e-48, -1.3502126877836258e-32, 4.050634862816383e-32, 9.250644754216073e-30)\n",
      "[543.8127831552957, -123.33883959089049, 241.22178649902347, -170.38619995117188, 3.7251975536346436, 46.09400177001953]\n"
     ]
    }
   ],
   "source": [
    "[x,y,z,u,v,w] = robot.get_TMPos()\n",
    "print([x,y,z,u,v,w])"
   ]
  },
  {
   "cell_type": "code",
   "execution_count": 4,
   "metadata": {},
   "outputs": [
    {
     "name": "stdout",
     "output_type": "stream",
     "text": [
      "[0.27779791259765624, -0.40277828979492186, 0.521943603515625, 3.0212875471387717, -0.00047615902885544416, 0.8152416797309308]\n",
      "[INFO] [1706945304.082655]: point 1 (Tag 1) is reached\n"
     ]
    }
   ],
   "source": [
    "robot.set_TMPos([481.2400478259802, -88.37447223143911, 521.943603515625, 173.10702514648438, -0.027281902730464935, 46.70990753173829])       \n",
    "#回正中間高度一定要大於100才不會撞到"
   ]
  },
  {
   "cell_type": "code",
   "execution_count": 16,
   "metadata": {},
   "outputs": [
    {
     "name": "stdout",
     "output_type": "stream",
     "text": [
      "[0.2774029541015625, -0.5208560791015625, 0.39837661743164066, -2.9231042545986026, -0.17800830048771593, 0.4842651180098327]\n",
      "[INFO] [1706861333.479234]: point 1 (Tag 1) is reached\n"
     ]
    }
   ],
   "source": [
    "[x,y,z,u,v,w]=[100, 100, 100.4959716796875, -176.01728820800784, 0.5390524864196777, 46.80111312866211]\n",
    "robot.set_TMPos([564.4543755213471, -172.14735558855622, 398.3766174316407, -167.48153686523438, -10.199124336242678, 27.746347427368164])#mm  | x+    <- y+   z+是往上\n",
    "#一定要大於100才不會撞到\n",
    "#robot.set_TMPos([484.1042532418399, -86.53510553787287, 396.6761474609375, -178.4583587646484, -0.2089095413684845, 44.86580276489258])\n",
    "#z軸似乎比實際上少了3公分"
   ]
  },
  {
   "cell_type": "code",
   "execution_count": 3,
   "metadata": {},
   "outputs": [],
   "source": [
    "from gripper import Gripper"
   ]
  },
  {
   "cell_type": "code",
   "execution_count": 4,
   "metadata": {},
   "outputs": [
    {
     "name": "stdout",
     "output_type": "stream",
     "text": [
      "Response: b'091003e800030130'\n"
     ]
    }
   ],
   "source": [
    "G = Gripper()"
   ]
  },
  {
   "cell_type": "code",
   "execution_count": 5,
   "metadata": {},
   "outputs": [
    {
     "name": "stdout",
     "output_type": "stream",
     "text": [
      "Activate gripper:\n",
      "Clear: 09 10 03 E8 00 03 06 00 00 00 00 00 00 73 30\n",
      "Response: b'091003e800030130'\n",
      "Set: 09 10 03 E8 00 03 06 01 00 00 00 00 00 72 E1\n",
      "b'D z@\\xa0 \\xcc'\n",
      "b'\\t\\x03\\x021\\x00L\\x15'\n",
      "Activate Complete\n"
     ]
    }
   ],
   "source": [
    "G.gripper_reset()"
   ]
  },
  {
   "cell_type": "code",
   "execution_count": 9,
   "metadata": {},
   "outputs": [
    {
     "name": "stdout",
     "output_type": "stream",
     "text": [
      "Open gripper\n",
      "Response: b'091003e800030130'\n"
     ]
    }
   ],
   "source": [
    "G.gripper_on()"
   ]
  },
  {
   "cell_type": "code",
   "execution_count": 10,
   "metadata": {},
   "outputs": [
    {
     "name": "stdout",
     "output_type": "stream",
     "text": [
      "Close gripper\n",
      "Response: b'091003e800030130'\n"
     ]
    }
   ],
   "source": [
    "G.gripper_soft_off()\n",
    "#G.gripper_on()"
   ]
  },
  {
   "cell_type": "code",
   "execution_count": 35,
   "metadata": {},
   "outputs": [
    {
     "ename": "NameError",
     "evalue": "name 'G' is not defined",
     "output_type": "error",
     "traceback": [
      "\u001b[0;31m---------------------------------------------------------------------------\u001b[0m",
      "\u001b[0;31mNameError\u001b[0m                                 Traceback (most recent call last)",
      "Cell \u001b[0;32mIn[35], line 1\u001b[0m\n\u001b[0;32m----> 1\u001b[0m \u001b[43mG\u001b[49m\u001b[38;5;241m.\u001b[39mgripper_status()\n",
      "\u001b[0;31mNameError\u001b[0m: name 'G' is not defined"
     ]
    }
   ],
   "source": [
    "G.gripper_status()"
   ]
  },
  {
   "cell_type": "code",
   "execution_count": 22,
   "metadata": {},
   "outputs": [
    {
     "name": "stdout",
     "output_type": "stream",
     "text": [
      "[[39.65148707]\n",
      " [-1.8229379 ]\n",
      " [29.29505309]]\n",
      "[[ 0.99888145 -0.04660927  0.00796429]\n",
      " [ 0.04537618  0.99223829  0.11577645]\n",
      " [-0.01329873 -0.11528555  0.99324337]]\n",
      "[[909.92766882   0.         640.45018871]\n",
      " [  0.         910.07773652 362.92579992]\n",
      " [  0.           0.           1.        ]]\n"
     ]
    }
   ],
   "source": [
    "import numpy as np\n",
    "\n",
    "print(np.load('TC2G.npy')) #偏移矩陣\n",
    "\n",
    "print(np.load('RC2G.npy')) #旋轉矩陣\n",
    "\n",
    "print(np.load('INS.npy')) #內參矩陣\n"
   ]
  },
  {
   "cell_type": "code",
   "execution_count": 3,
   "metadata": {},
   "outputs": [
    {
     "name": "stdout",
     "output_type": "stream",
     "text": [
      "四元數：\n",
      "[ 0.92404525 -0.33017352  0.15497271  0.11449581]\n",
      "四元數：scipy\n",
      "[ 0.92404525 -0.33017352  0.15497271  0.11449581]\n"
     ]
    }
   ],
   "source": [
    "import numpy as np\n",
    "\n",
    "def rotation_matrix_to_quaternion(R):\n",
    "    trace = np.trace(R)\n",
    "    if trace > 0:\n",
    "        S = 0.5 / np.sqrt(trace + 1.0)\n",
    "        w = 0.25 / S\n",
    "        x = (R[2, 1] - R[1, 2]) * S\n",
    "        y = (R[0, 2] - R[2, 0]) * S\n",
    "        z = (R[1, 0] - R[0, 1]) * S\n",
    "    elif R[0, 0] > R[1, 1] and R[0, 0] > R[2, 2]:\n",
    "        S = 2.0 * np.sqrt(1.0 + R[0, 0] - R[1, 1] - R[2, 2])\n",
    "        w = (R[2, 1] - R[1, 2]) / S\n",
    "        x = 0.25 * S\n",
    "        y = (R[0, 1] + R[1, 0]) / S\n",
    "        z = (R[0, 2] + R[2, 0]) / S\n",
    "    elif R[1, 1] > R[2, 2]:\n",
    "        S = 2.0 * np.sqrt(1.0 + R[1, 1] - R[0, 0] - R[2, 2])\n",
    "        w = (R[0, 2] - R[2, 0]) / S\n",
    "        x = (R[0, 1] + R[1, 0]) / S\n",
    "        y = 0.25 * S\n",
    "        z = (R[1, 2] + R[2, 1]) / S\n",
    "    else:\n",
    "        S = 2.0 * np.sqrt(1.0 + R[2, 2] - R[0, 0] - R[1, 1])\n",
    "        w = (R[1, 0] - R[0, 1]) / S\n",
    "        x = (R[0, 2] + R[2, 0]) / S\n",
    "        y = (R[1, 2] + R[2, 1]) / S\n",
    "        z = 0.25 * S\n",
    "\n",
    "    return np.array([w, x, y, z])\n",
    "\n",
    "# 旋轉矩陣\n",
    "rotation_matrix = np.array([[ 0.92574834, -0.31393438,  0.21079662],\n",
    "       [ 0.10926284,  0.75575232,  0.64567799],\n",
    "       [-0.36201055, -0.57470309,  0.73393782]])\n",
    "\n",
    "# 轉換為四元數\n",
    "quaternion = rotation_matrix_to_quaternion(rotation_matrix)\n",
    "\n",
    "print(\"四元數：\")\n",
    "print(quaternion)\n",
    "\n",
    "from scipy.spatial.transform import Rotation as R\n",
    "r = R.from_matrix(rotation_matrix)\n",
    "r.as_quat()\n",
    "print(\"四元數：scipy\")\n",
    "print(quaternion)"
   ]
  },
  {
   "cell_type": "code",
   "execution_count": 4,
   "metadata": {},
   "outputs": [
    {
     "name": "stdout",
     "output_type": "stream",
     "text": [
      "旋轉矩陣：\n",
      "[[ 0.975926 -0.217446 -0.01712 ]\n",
      " [ 0.00255  -0.067274  0.997896]\n",
      " [-0.218104 -0.97392  -0.065104]]\n",
      "旋轉矩陣：scipy\n",
      "[[ 0.975926 -0.217446 -0.01712 ]\n",
      " [ 0.00255  -0.067274  0.997896]\n",
      " [-0.218104 -0.97392  -0.065104]]\n"
     ]
    }
   ],
   "source": [
    "import numpy as np\n",
    "from scipy.spatial.transform import Rotation as R\n",
    "\n",
    "def quaternion_to_rotation_matrix(q):\n",
    "    a, b, c, d = q\n",
    "    R = np.array([[1 - 2*(c**2 + d**2), 2*(b*c - a*d), 2*(a*c + b*d)],\n",
    "                  [2*(b*c + a*d), 1 - 2*(b**2 + d**2), 2*(c*d - a*b)],\n",
    "                  [2*(b*d - a*c), 2*(a*b + c*d), 1 - 2*(b**2 + c**2)]])\n",
    "    return R\n",
    "\n",
    "# 四元數\n",
    "quaternion = np.array([-0.679, 0.726, -0.074, -0.081])\n",
    "\n",
    "# 轉換為旋轉矩陣\n",
    "rotation_matrix = quaternion_to_rotation_matrix(quaternion)\n",
    "\n",
    "print(\"旋轉矩陣：\")\n",
    "print(rotation_matrix)\n",
    "\n",
    "\n",
    "r = R.from_quat(quaternion)\n",
    "r.as_matrix()\n",
    "print(\"旋轉矩陣：scipy\")\n",
    "print(rotation_matrix)"
   ]
  },
  {
   "cell_type": "code",
   "execution_count": 5,
   "metadata": {},
   "outputs": [
    {
     "name": "stdout",
     "output_type": "stream",
     "text": [
      "在原始影像中的位置：(215, 192)\n"
     ]
    }
   ],
   "source": [
    "def convert_coordinates(window_width, window_height, image_width, image_height, click_x, click_y):\n",
    "    # 計算寬度和高度的比例因子\n",
    "    width_scale = image_width / window_width\n",
    "    height_scale = image_height / window_height\n",
    "    \n",
    "    # 將視窗中的點擊位置轉換為原始大小影像中的位置\n",
    "    original_x = int(click_x * width_scale)\n",
    "    original_y = int(click_y * height_scale)\n",
    "    \n",
    "    return original_x, original_y\n",
    "\n",
    "# 視窗大小\n",
    "window_width = 889\n",
    "window_height = 500\n",
    "\n",
    "# 原始影像大小\n",
    "image_width = 640\n",
    "image_height = 480\n",
    "\n",
    "# 在視窗中的點擊位置\n",
    "click_x = 300\n",
    "click_y = 200\n",
    "\n",
    "# 轉換為原始影像中的位置\n",
    "original_x, original_y = convert_coordinates(window_width, window_height, image_width, image_height, click_x, click_y)\n",
    "\n",
    "print(\"在原始影像中的位置：({}, {})\".format(original_x, original_y))"
   ]
  },
  {
   "cell_type": "code",
   "execution_count": 7,
   "metadata": {},
   "outputs": [
    {
     "name": "stdout",
     "output_type": "stream",
     "text": [
      "[ 640x480  p[319.108 241.311]  f[611.058 611.026]  Inverse Brown Conrady [0 0 0 0 0] ]\n"
     ]
    }
   ],
   "source": [
    "import pyrealsense2 as rs\n",
    "pipeline = rs.pipeline()\n",
    "#self.colorizer = rs.colorizer()\n",
    "config = rs.config()\n",
    "#self.config.enable_device('f0265339') #只有一隻相機就不用指定\n",
    "config.enable_stream(rs.stream.depth, 640, 480, rs.format.z16, 30)\n",
    "config.enable_stream(rs.stream.color, 640, 480, rs.format.bgr8, 30)\n",
    "align_to = rs.stream.color\n",
    "align = rs.align(align_to)\n",
    "profile = pipeline.start(config)\n",
    "depth_sensor = profile.get_device().first_depth_sensor()\n",
    "depth_scale = depth_sensor.get_depth_scale()  \n",
    "frames = pipeline.wait_for_frames()\n",
    "aligned_frames = align.process(frames)\n",
    "depth_frame = aligned_frames.get_depth_frame()\n",
    "color_frame = aligned_frames.get_color_frame()\n",
    "_intrin = depth_frame.profile.as_video_stream_profile().intrinsics\n",
    "print(_intrin)\n",
    "pipeline.stop()"
   ]
  },
  {
   "cell_type": "code",
   "execution_count": 20,
   "metadata": {},
   "outputs": [
    {
     "name": "stdout",
     "output_type": "stream",
     "text": [
      "[[ 0.92492083 -0.31779432  0.2086342 ]\n",
      " [ 0.11450619  0.75620774  0.64423458]\n",
      " [-0.36250488 -0.57197607  0.7358217 ]]\n",
      "[[ 0.92492083 -0.31779432  0.2086342 ]\n",
      " [ 0.11450619  0.75620774  0.64423458]\n",
      " [-0.36250488 -0.57197607  0.7358217 ]]\n"
     ]
    }
   ],
   "source": [
    "import cv2\n",
    "rvec=np.matrix([[-0.67507828],\n",
    "                [ 0.3170204 ],\n",
    "                [ 0.2399557 ]])\n",
    "\n",
    "rmatx = 0\n",
    "rmatx = cv2.Rodrigues(rvec,rmatx)[0]\n",
    "r_mat2,_ = cv2.Rodrigues(rvec)\n",
    "print(rmatx)\n",
    "print(r_mat2)\n"
   ]
  },
  {
   "cell_type": "markdown",
   "metadata": {},
   "source": [
    "[[ 9.97138831e-01  7.19587478e-02  2.31536055e-02 -4.18799845e+01]\n",
    " [-7.36243805e-02  9.93934636e-01  8.16908186e-02  1.76238195e+01]\n",
    " [-1.71348015e-02 -8.31617572e-02  9.96388740e-01  1.61677344e+01]\n",
    " [ 0.00000000e+00  0.00000000e+00  0.00000000e+00  1.00000000e+00]]  目前的camera到gripper"
   ]
  }
 ],
 "metadata": {
  "kernelspec": {
   "display_name": "Python 3",
   "language": "python",
   "name": "python3"
  },
  "language_info": {
   "codemirror_mode": {
    "name": "ipython",
    "version": 3
   },
   "file_extension": ".py",
   "mimetype": "text/x-python",
   "name": "python",
   "nbconvert_exporter": "python",
   "pygments_lexer": "ipython3",
   "version": "3.8.10"
  }
 },
 "nbformat": 4,
 "nbformat_minor": 2
}
